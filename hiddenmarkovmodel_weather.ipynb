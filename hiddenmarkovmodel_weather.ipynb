{
 "cells": [
  {
   "cell_type": "code",
   "execution_count": 295,
   "metadata": {},
   "outputs": [],
   "source": [
    "import pandas as pd\n",
    "import numpy as np\n",
    "from scipy import stats\n",
    "import matplotlib.pyplot as plt\n",
    "%matplotlib inline\n",
    "import matplotlib.font_manager\n",
    "from sklearn.model_selection import train_test_split"
   ]
  },
  {
   "cell_type": "code",
   "execution_count": 316,
   "metadata": {},
   "outputs": [],
   "source": [
    "data=pd.read_csv('D:\\ms\\s3-pattern\\Project2Data.txt', encoding='utf-8-sig', sep='\\s*,\\s*', engine='python')\n",
    "data.head()\n",
    "df_train = data"
   ]
  },
  {
   "cell_type": "code",
   "execution_count": 317,
   "metadata": {},
   "outputs": [],
   "source": [
    "#df_train, df_test = train_test_split(data,  test_size=0.3)\n"
   ]
  },
  {
   "cell_type": "code",
   "execution_count": 318,
   "metadata": {},
   "outputs": [
    {
     "data": {
      "text/html": [
       "<div>\n",
       "<style scoped>\n",
       "    .dataframe tbody tr th:only-of-type {\n",
       "        vertical-align: middle;\n",
       "    }\n",
       "\n",
       "    .dataframe tbody tr th {\n",
       "        vertical-align: top;\n",
       "    }\n",
       "\n",
       "    .dataframe thead th {\n",
       "        text-align: right;\n",
       "    }\n",
       "</style>\n",
       "<table border=\"1\" class=\"dataframe\">\n",
       "  <thead>\n",
       "    <tr style=\"text-align: right;\">\n",
       "      <th></th>\n",
       "      <th>index</th>\n",
       "      <th>foggy</th>\n",
       "      <th>no</th>\n",
       "    </tr>\n",
       "  </thead>\n",
       "  <tbody>\n",
       "    <tr>\n",
       "      <td>0</td>\n",
       "      <td>0</td>\n",
       "      <td>foggy</td>\n",
       "      <td>no</td>\n",
       "    </tr>\n",
       "    <tr>\n",
       "      <td>1</td>\n",
       "      <td>1</td>\n",
       "      <td>foggy</td>\n",
       "      <td>no</td>\n",
       "    </tr>\n",
       "    <tr>\n",
       "      <td>2</td>\n",
       "      <td>2</td>\n",
       "      <td>rainy</td>\n",
       "      <td>yes</td>\n",
       "    </tr>\n",
       "    <tr>\n",
       "      <td>3</td>\n",
       "      <td>3</td>\n",
       "      <td>sunny</td>\n",
       "      <td>no</td>\n",
       "    </tr>\n",
       "    <tr>\n",
       "      <td>4</td>\n",
       "      <td>4</td>\n",
       "      <td>foggy</td>\n",
       "      <td>no</td>\n",
       "    </tr>\n",
       "    <tr>\n",
       "      <td>...</td>\n",
       "      <td>...</td>\n",
       "      <td>...</td>\n",
       "      <td>...</td>\n",
       "    </tr>\n",
       "    <tr>\n",
       "      <td>994</td>\n",
       "      <td>994</td>\n",
       "      <td>sunny</td>\n",
       "      <td>no</td>\n",
       "    </tr>\n",
       "    <tr>\n",
       "      <td>995</td>\n",
       "      <td>995</td>\n",
       "      <td>foggy</td>\n",
       "      <td>no</td>\n",
       "    </tr>\n",
       "    <tr>\n",
       "      <td>996</td>\n",
       "      <td>996</td>\n",
       "      <td>rainy</td>\n",
       "      <td>yes</td>\n",
       "    </tr>\n",
       "    <tr>\n",
       "      <td>997</td>\n",
       "      <td>997</td>\n",
       "      <td>foggy</td>\n",
       "      <td>yes</td>\n",
       "    </tr>\n",
       "    <tr>\n",
       "      <td>998</td>\n",
       "      <td>998</td>\n",
       "      <td>sunny</td>\n",
       "      <td>no</td>\n",
       "    </tr>\n",
       "  </tbody>\n",
       "</table>\n",
       "<p>999 rows × 3 columns</p>\n",
       "</div>"
      ],
      "text/plain": [
       "     index  foggy   no\n",
       "0        0  foggy   no\n",
       "1        1  foggy   no\n",
       "2        2  rainy  yes\n",
       "3        3  sunny   no\n",
       "4        4  foggy   no\n",
       "..     ...    ...  ...\n",
       "994    994  sunny   no\n",
       "995    995  foggy   no\n",
       "996    996  rainy  yes\n",
       "997    997  foggy  yes\n",
       "998    998  sunny   no\n",
       "\n",
       "[999 rows x 3 columns]"
      ]
     },
     "execution_count": 318,
     "metadata": {},
     "output_type": "execute_result"
    }
   ],
   "source": [
    "df_train.reset_index()"
   ]
  },
  {
   "cell_type": "code",
   "execution_count": 319,
   "metadata": {},
   "outputs": [],
   "source": [
    " df_train.columns = ['state','obs']"
   ]
  },
  {
   "cell_type": "code",
   "execution_count": 320,
   "metadata": {},
   "outputs": [
    {
     "name": "stdout",
     "output_type": "stream",
     "text": [
      "['no' 'yes']\n"
     ]
    }
   ],
   "source": [
    "states = df_train.state.unique()\n",
    "emissions = df_train.obs.unique()\n",
    "states\n",
    "states=['sunny','rainy','foggy']\n",
    "print(emissions)\n",
    "emissions =['no','yes']"
   ]
  },
  {
   "cell_type": "code",
   "execution_count": 321,
   "metadata": {},
   "outputs": [],
   "source": [
    "intial_state_prob = [1,0,0]\n",
    "N = len(states)\n",
    "M = len(emissions)"
   ]
  },
  {
   "cell_type": "code",
   "execution_count": 322,
   "metadata": {},
   "outputs": [],
   "source": [
    "res = [ [ 0 for i in range(N) ] for j in range(N) ] \n",
    "res = pd.DataFrame(res)\n",
    "type(res)\n",
    "res.columns=states\n",
    "res.index = states \n",
    "\n",
    "ems = [ [ 0 for i in range(N) ] for j in range(M) ] \n",
    "ems = pd.DataFrame(ems)\n",
    "ems.columns=states\n",
    "ems.index = emissions "
   ]
  },
  {
   "cell_type": "code",
   "execution_count": 323,
   "metadata": {},
   "outputs": [
    {
     "name": "stdout",
     "output_type": "stream",
     "text": [
      "       sunny  rainy  foggy\n",
      "sunny      0      0      0\n",
      "rainy      0      0      0\n",
      "foggy      0      0      0\n",
      "     sunny  rainy  foggy\n",
      "no       0      0      0\n",
      "yes      0      0      0\n"
     ]
    }
   ],
   "source": [
    "print(res)\n",
    "res.iloc[0][1]\n",
    "print(ems)"
   ]
  },
  {
   "cell_type": "code",
   "execution_count": 324,
   "metadata": {},
   "outputs": [],
   "source": [
    "def count_emssion_matrix( df_train):\n",
    "    #res = pd.DataFrame(index=states, columns=states)\n",
    "    for i in range(len(df_train)-1):\n",
    "        #print(df_train.iloc[i]['state'],df_train.iloc[i+1]['state'])\n",
    "        if(df_train.iloc[i]['state'] == 'sunny' and df_train.iloc[i]['obs'] == 'yes'):\n",
    "           ems.iloc[0][0] = res.iloc[0][0]+1\n",
    "        elif(df_train.iloc[i]['state'] == 'sunny' and df_train.iloc[i]['obs'] == 'no'):\n",
    "           ems.iloc[1][0] = res.iloc[1][0] +1\n",
    "        elif(df_train.iloc[i]['state'] == 'rainy' and df_train.iloc[i]['obs'] == 'yes'):\n",
    "           ems.iloc[0][1]  = res.iloc[0][1]+1\n",
    "        elif(df_train.iloc[i]['state'] == 'rainy' and df_train.iloc[i]['obs'] == 'no'):\n",
    "          ems.iloc[1][1] = res.iloc[1][1]+1\n",
    "        elif(df_train.iloc[i]['state'] == 'foggy' and df_train.iloc[i]['obs'] == 'yes'):\n",
    "           ems.iloc[0][2] = res.iloc[1][1]+1\n",
    "        elif(df_train.iloc[i]['state'] == 'foggy' and df_train.iloc[i]['obs'] == 'no'):\n",
    "           ems.iloc[1][2] = res.iloc[2][1]+1\n",
    "    #print(ems)  \n",
    "    return ems"
   ]
  },
  {
   "cell_type": "code",
   "execution_count": 325,
   "metadata": {},
   "outputs": [],
   "source": [
    "def countmatrix( df_train):\n",
    "    #res = pd.DataFrame(index=states, columns=states)\n",
    "    #res = pd.DataFrame(index=states, columns=states)\n",
    "    for i in range(len(df_train)-1):\n",
    "        #print(df_train.iloc[i]['state'],df_train.iloc[i+1]['state'])\n",
    "        if(df_train.iloc[i]['state'] == 'sunny' and df_train.iloc[i+1]['state'] == 'sunny'):\n",
    "           res.iloc[0][0] = res.iloc[0][0]+1\n",
    "        elif(df_train.iloc[i]['state'] == 'rainy' and df_train.iloc[i+1]['state'] == 'sunny'):\n",
    "           res.iloc[1][0] = res.iloc[1][0] +1\n",
    "        elif(df_train.iloc[i]['state'] == 'foggy' and df_train.iloc[i+1]['state'] == 'sunny'):\n",
    "           res.iloc[2][0]  = res.iloc[2][0]+1\n",
    "        elif(df_train.iloc[i]['state'] == 'sunny' and df_train.iloc[i+1]['state'] == 'rainy'):\n",
    "          res.iloc[0][1] = res.iloc[0][1]+1\n",
    "        elif(df_train.iloc[i]['state'] == 'rainy' and df_train.iloc[i+1]['state'] == 'rainy'):\n",
    "           res.iloc[1][1] = res.iloc[1][1]+1\n",
    "        elif(df_train.iloc[i]['state'] == 'foggy' and df_train.iloc[i+1]['state'] == 'rainy'):\n",
    "           res.iloc[2][1] = res.iloc[2][1]+1\n",
    "        elif(df_train.iloc[i]['state'] == 'sunny' and df_train.iloc[i+1]['state'] == 'foggy'):\n",
    "           res.iloc[0][2] = res.iloc[0][2]+1\n",
    "        elif(df_train.iloc[i]['state'] == 'rainy' and df_train.iloc[i+1]['state'] == 'foggy'):\n",
    "           res.iloc[1][2] = res.iloc[1][2]+1\n",
    "        elif(df_train.iloc[i]['state'] == 'foggy' and df_train.iloc[i+1]['state'] == 'foggy'):\n",
    "           res.iloc[2][2] = res.iloc[2][2]+1\n",
    "    return res"
   ]
  },
  {
   "cell_type": "code",
   "execution_count": 326,
   "metadata": {},
   "outputs": [],
   "source": [
    "#trans_prob = count\n",
    "def emissionmatrix(df_train):\n",
    "    colsum = []\n",
    "    count_ems = pd.DataFrame(index=emissions, columns=states)\n",
    "    ems1 = np.zeros((len(emissions),len(states)))\n",
    "    #print(ems1.shape)\n",
    "    for i in range(len(df_train)-1):\n",
    "        #print(df_train.iloc[i]['state'],df_train.iloc[i+1]['state'])\n",
    "        if(df_train.iloc[i]['state'] == 'sunny' and df_train.iloc[i]['obs'] == 'no'):\n",
    "           ems1[0][0] = ems1[0][0]+1\n",
    "        elif(df_train.iloc[i]['state'] == 'sunny' and df_train.iloc[i]['obs'] == 'yes'):\n",
    "           ems1[1][0] = ems1[1][0] +1\n",
    "        elif(df_train.iloc[i]['state'] == 'rainy' and df_train.iloc[i]['obs'] == 'no'):\n",
    "           ems1[0][1]  = ems1[0][1]+1\n",
    "        elif(df_train.iloc[i]['state'] == 'rainy' and df_train.iloc[i]['obs'] == 'yes'):\n",
    "           ems1[1][1] = ems1[1][1]+1\n",
    "        elif(df_train.iloc[i]['state'] == 'foggy' and df_train.iloc[i]['obs'] == 'no'):\n",
    "           ems1[0][2] = ems1[0][2]+1\n",
    "        elif(df_train.iloc[i]['state'] == 'foggy' and df_train.iloc[i]['obs'] == 'yes'):\n",
    "           ems1[1][2] = ems1[1][2]+1\n",
    "    #print(ems1)  \n",
    "    #count_ems = count_emssion_matrix(df_train)\n",
    "    #print(count_ems)\n",
    "    count_ems = ems1\n",
    "    d_ems = np.zeros((len(emissions),len(states)))\n",
    "    \n",
    "    for i in range(len(count_ems[1])):\n",
    "        colsum= count_ems.sum(axis=0)\n",
    "    #print(count_ems)\n",
    "    #print(len(count_ems.iloc[0],len(count_ems))\n",
    "    for i in range (len(count_ems)): \n",
    "        for p in range(len(count_ems[0])):        \n",
    "             temp = count_ems[i][p]/colsum[p]\n",
    "# #            trans_prob.set_value(i, p, temp)\n",
    "             d_ems[i,p] = temp\n",
    "# #            print(i,p)\n",
    "# #      \n",
    "    #print(d_ems)\n",
    "    #type(trans_prob)\n",
    "    return d_ems"
   ]
  },
  {
   "cell_type": "code",
   "execution_count": 327,
   "metadata": {},
   "outputs": [],
   "source": [
    "#trans_prob = count\n",
    "def transitionmatrix(df_train):\n",
    "    rowsum = []\n",
    "    count = pd.DataFrame(index=states, columns=states)\n",
    "    res1 = np.zeros((len(states),len(states)))\n",
    "    for i in range(len(df_train)-1):\n",
    "        #print(df_train.iloc[i]['state'],df_train.iloc[i+1]['state'])\n",
    "        if(df_train.iloc[i]['state'] == 'sunny' and df_train.iloc[i+1]['state'] == 'sunny'):\n",
    "           res1[0][0] = res1[0][0]+1\n",
    "        elif(df_train.iloc[i]['state'] == 'rainy' and df_train.iloc[i+1]['state'] == 'sunny'):\n",
    "           res1[1][0] = res1[1][0] +1\n",
    "        elif(df_train.iloc[i]['state'] == 'foggy' and df_train.iloc[i+1]['state'] == 'sunny'):\n",
    "           res1[2][0]  = res1[2][0]+1\n",
    "        elif(df_train.iloc[i]['state'] == 'sunny' and df_train.iloc[i+1]['state'] == 'rainy'):\n",
    "          res1[0][1] = res1[0][1]+1\n",
    "        elif(df_train.iloc[i]['state'] == 'rainy' and df_train.iloc[i+1]['state'] == 'rainy'):\n",
    "           res1[1][1] = res1[1][1]+1\n",
    "        elif(df_train.iloc[i]['state'] == 'foggy' and df_train.iloc[i+1]['state'] == 'rainy'):\n",
    "           res1[2][1] = res1[2][1]+1\n",
    "        elif(df_train.iloc[i]['state'] == 'sunny' and df_train.iloc[i+1]['state'] == 'foggy'):\n",
    "           res1[0][2] = res1[0][2]+1\n",
    "        elif(df_train.iloc[i]['state'] == 'rainy' and df_train.iloc[i+1]['state'] == 'foggy'):\n",
    "           res1[1][2] = res1[1][2]+1\n",
    "        elif(df_train.iloc[i]['state'] == 'foggy' and df_train.iloc[i+1]['state'] == 'foggy'):\n",
    "           res1[2][2] = res1[2][2]+1\n",
    "    count = pd.DataFrame(res1, columns=states, index=states)\n",
    "    #print(res1)\n",
    "    d = np.zeros((len(states),len(states)))\n",
    "    \n",
    "    for i in range(len(count)):\n",
    "        rowsum = count.sum(axis=1)\n",
    "    for i in range(len(count)): \n",
    "        for p in range(len(count.iloc[i])):        \n",
    "           temp = count.iloc[i][p]/rowsum[i]\n",
    "           #trans_prob.set_value(i, p, temp)\n",
    "           d[i,p] = temp\n",
    "           #print(temp)\n",
    "     \n",
    "    #print(trans_prob)\n",
    "    #type(trans_prob)\n",
    "    return d"
   ]
  },
  {
   "cell_type": "code",
   "execution_count": null,
   "metadata": {},
   "outputs": [],
   "source": []
  },
  {
   "cell_type": "code",
   "execution_count": 328,
   "metadata": {},
   "outputs": [
    {
     "name": "stdout",
     "output_type": "stream",
     "text": [
      "          sunny     rainy     foggy\n",
      "sunny  0.795132  0.054767  0.150101\n",
      "rainy  0.195918  0.579592  0.224490\n",
      "foggy  0.207692  0.292308  0.500000\n",
      "        sunny     rainy     foggy\n",
      "no   0.914807  0.187755  0.696154\n",
      "yes  0.085193  0.812245  0.303846\n"
     ]
    }
   ],
   "source": [
    "\n",
    "chakka = transitionmatrix(df_train)\n",
    "chakka1 = chakka\n",
    "transitionprobality = pd.DataFrame(chakka1, columns=states, index=states)\n",
    "print(transitionprobality)\n",
    "ems_temp = emissionmatrix(df_train)\n",
    "emissionprobability =  pd.DataFrame(ems_temp, columns=states, index=emissions)\n",
    "print(emissionprobability)"
   ]
  },
  {
   "cell_type": "code",
   "execution_count": 331,
   "metadata": {},
   "outputs": [
    {
     "name": "stdout",
     "output_type": "stream",
     "text": [
      "<class 'numpy.ndarray'>\n",
      "[[9.14807302e-01 6.65423896e-01 5.03872492e-01 3.61959330e-02\n",
      "  4.34356526e-02 3.80217861e-02 2.88517070e-03 3.78484165e-04\n",
      "  1.25786457e-03 1.13778203e-04]\n",
      " [0.00000000e+00 9.40671995e-03 1.31123106e-02 5.33449023e-02\n",
      "  8.35700356e-03 2.77989303e-03 6.53177934e-03 4.19660034e-03\n",
      "  5.27127333e-04 5.69435057e-04]\n",
      " [0.00000000e+00 9.55915822e-02 1.04275893e-01 3.97167951e-02\n",
      "  2.59434573e-02 1.48750978e-02 4.18357584e-03 1.21270285e-03\n",
      "  1.11750541e-03 2.63098765e-04]]\n"
     ]
    }
   ],
   "source": [
    "df_test = df_test.replace(to_replace=['no', 'yes'], value=[0, 1])\n",
    "df_test.columns = ['state','obs']\n",
    "#V = df_test['obs'].values\n",
    "#V = df_test['obs'].values\n",
    "ip_obs1 = np.array(('no', 'no', 'no', 'yes', 'no', 'no', 'yes', 'yes', 'no', 'yes'))\n",
    "ip_obs = np.where(V1 == 'yes', 1, 0)\n",
    "print(type(V))\n",
    "a = chakka1\n",
    "b = ems_temp.transpose()\n",
    "\n",
    "initial_distribution = np.array((1,0,0))\n",
    "alpha = np.zeros((ip_obs.shape[0], a.shape[0]))\n",
    "alpha[0, :] = initial_distribution * b[:, ip_obs[0]]\n",
    "#print(alpha.shape) \n",
    "for t in range(1, ip_obs.shape[0]):\n",
    "        for j in range(a.shape[0]):\n",
    "           \n",
    "            alpha[t, j] = alpha[t - 1].dot(a[:, j]) * b[j, ip_obs[t]]\n",
    "alpha_tranpose = alpha.transpose()\n",
    "print(alpha_tranpose)\n"
   ]
  },
  {
   "cell_type": "code",
   "execution_count": 342,
   "metadata": {},
   "outputs": [
    {
     "name": "stdout",
     "output_type": "stream",
     "text": [
      "[[0. 0. 0.]\n",
      " [0. 0. 0.]\n",
      " [0. 0. 0.]\n",
      " [0. 1. 2.]\n",
      " [0. 2. 2.]\n",
      " [0. 0. 0.]\n",
      " [0. 1. 2.]\n",
      " [1. 1. 1.]\n",
      " [0. 1. 2.]]\n",
      "[1. 1. 1. 1. 0. 0. 0. 0. 0. 0.]\n",
      "['sunny', 'sunny', 'sunny', 'sunny', 'sunny', 'sunny', 'rainy', 'rainy', 'rainy', 'rainy']\n"
     ]
    },
    {
     "name": "stderr",
     "output_type": "stream",
     "text": [
      "C:\\ProgramData\\Anaconda3\\lib\\site-packages\\ipykernel_launcher.py:4: RuntimeWarning: divide by zero encountered in log\n",
      "  after removing the cwd from sys.path.\n"
     ]
    }
   ],
   "source": [
    "T = ip_obs.shape[0]\n",
    "M = a.shape[0]\n",
    "omega = np.zeros((T, M))\n",
    "omega[0, :] = np.log(initial_distribution * b[:, ip_obs[0]])\n",
    "prev = np.zeros((T - 1, M))\n",
    "for t in range(1, T):\n",
    "        for j in range(M):\n",
    "            # Same as Forward Probability\n",
    "            probability = omega[t - 1] + np.log(a[:, j]) + np.log(b[j, V[t]])\n",
    "            #print(probability)\n",
    "            # This is our most probable state given previous state at time t (1)\n",
    "            prev[t - 1, j] = np.argmax(probability)\n",
    "            #print(np.argmax(probability))\n",
    "            # This is the probability of the most probable state (2)\n",
    "            omega[t, j] = np.max(probability)\n",
    "# Path Array\n",
    "S = np.zeros(T)\n",
    " \n",
    "# Find the most probable last hidden state\n",
    "last_state = np.argmax(omega[T - 1, :])\n",
    " \n",
    "S[0] = last_state\n",
    "print(prev)\n",
    "backtrack_index = 1\n",
    "for i in range(T - 2, -1, -1):\n",
    "        S[backtrack_index] = prev[i, int(last_state)]\n",
    "        last_state = prev[i, int(last_state)]\n",
    "        backtrack_index += 1\n",
    "print(S) \n",
    " # Flip the path array since we were backtracking\n",
    "S = np.flip(S, axis=0)\n",
    "# Convert numeric values to actual hidden states\n",
    "result = []\n",
    "for s in S:\n",
    "        if s == 0:\n",
    "            result.append(\"sunny\")\n",
    "        elif s== 1:\n",
    "            result.append(\"rainy\")\n",
    "        else:\n",
    "            result.append(\"foggy\")\n",
    "print(result)"
   ]
  },
  {
   "cell_type": "code",
   "execution_count": 330,
   "metadata": {},
   "outputs": [],
   "source": [
    "inputstates=['sunny','sunny','foggy','rainy']"
   ]
  },
  {
   "cell_type": "code",
   "execution_count": 201,
   "metadata": {},
   "outputs": [],
   "source": [
    "alphacols = len(inputstates)\n",
    "alphaRows = len(states)"
   ]
  },
  {
   "cell_type": "code",
   "execution_count": 202,
   "metadata": {},
   "outputs": [
    {
     "name": "stdout",
     "output_type": "stream",
     "text": [
      "[[0, 0, 0, 0, 0], [0, 0, 0, 0, 0], [0, 0, 0, 0, 0]]\n"
     ]
    }
   ],
   "source": [
    "alpha = [[0]*(alphacols+1)]*alphaRows\n",
    "print(alpha)\n",
    "#alpha_frwadalgo(alpha,inputstates,transitionprobality,emissionprobability)"
   ]
  },
  {
   "cell_type": "code",
   "execution_count": 205,
   "metadata": {},
   "outputs": [
    {
     "name": "stdout",
     "output_type": "stream",
     "text": [
      "[[1. 0. 0. 0. 0.]\n",
      " [0. 0. 0. 0. 0.]\n",
      " [0. 0. 0. 0. 0.]]\n",
      "          sunny     rainy     foggy\n",
      "sunny  0.535817  0.200573  0.263610\n",
      "rainy  0.460606  0.266667  0.272727\n",
      "foggy  0.461957  0.277174  0.260870\n"
     ]
    },
    {
     "ename": "TypeError",
     "evalue": "Cannot index by location index with a non-integer key",
     "output_type": "error",
     "traceback": [
      "\u001b[1;31m---------------------------------------------------------------------------\u001b[0m",
      "\u001b[1;31mTypeError\u001b[0m                                 Traceback (most recent call last)",
      "\u001b[1;32m<ipython-input-205-0bf2bdfa61b9>\u001b[0m in \u001b[0;36m<module>\u001b[1;34m\u001b[0m\n\u001b[0;32m     19\u001b[0m                 \u001b[1;31m#print(trans)\u001b[0m\u001b[1;33m\u001b[0m\u001b[1;33m\u001b[0m\u001b[1;33m\u001b[0m\u001b[0m\n\u001b[0;32m     20\u001b[0m                 \u001b[1;31m#print(a_val)\u001b[0m\u001b[1;33m\u001b[0m\u001b[1;33m\u001b[0m\u001b[1;33m\u001b[0m\u001b[0m\n\u001b[1;32m---> 21\u001b[1;33m                 \u001b[0mprint\u001b[0m\u001b[1;33m(\u001b[0m\u001b[0memissionprobability\u001b[0m\u001b[1;33m.\u001b[0m\u001b[0miloc\u001b[0m\u001b[1;33m[\u001b[0m\u001b[0mfrom_obs\u001b[0m\u001b[1;33m]\u001b[0m\u001b[1;33m[\u001b[0m\u001b[0mto_ip_state\u001b[0m\u001b[1;33m]\u001b[0m\u001b[1;33m)\u001b[0m\u001b[1;33m\u001b[0m\u001b[1;33m\u001b[0m\u001b[0m\n\u001b[0m\u001b[0;32m     22\u001b[0m                 \u001b[1;31m#sum = 0;\u001b[0m\u001b[1;33m\u001b[0m\u001b[1;33m\u001b[0m\u001b[1;33m\u001b[0m\u001b[0m\n\u001b[0;32m     23\u001b[0m \u001b[1;31m#                 for x in range(0, len(alpha_new)-1):\u001b[0m\u001b[1;33m\u001b[0m\u001b[1;33m\u001b[0m\u001b[1;33m\u001b[0m\u001b[0m\n",
      "\u001b[1;32mC:\\ProgramData\\Anaconda3\\lib\\site-packages\\pandas\\core\\indexing.py\u001b[0m in \u001b[0;36m__getitem__\u001b[1;34m(self, key)\u001b[0m\n\u001b[0;32m   1422\u001b[0m \u001b[1;33m\u001b[0m\u001b[0m\n\u001b[0;32m   1423\u001b[0m             \u001b[0mmaybe_callable\u001b[0m \u001b[1;33m=\u001b[0m \u001b[0mcom\u001b[0m\u001b[1;33m.\u001b[0m\u001b[0mapply_if_callable\u001b[0m\u001b[1;33m(\u001b[0m\u001b[0mkey\u001b[0m\u001b[1;33m,\u001b[0m \u001b[0mself\u001b[0m\u001b[1;33m.\u001b[0m\u001b[0mobj\u001b[0m\u001b[1;33m)\u001b[0m\u001b[1;33m\u001b[0m\u001b[1;33m\u001b[0m\u001b[0m\n\u001b[1;32m-> 1424\u001b[1;33m             \u001b[1;32mreturn\u001b[0m \u001b[0mself\u001b[0m\u001b[1;33m.\u001b[0m\u001b[0m_getitem_axis\u001b[0m\u001b[1;33m(\u001b[0m\u001b[0mmaybe_callable\u001b[0m\u001b[1;33m,\u001b[0m \u001b[0maxis\u001b[0m\u001b[1;33m=\u001b[0m\u001b[0maxis\u001b[0m\u001b[1;33m)\u001b[0m\u001b[1;33m\u001b[0m\u001b[1;33m\u001b[0m\u001b[0m\n\u001b[0m\u001b[0;32m   1425\u001b[0m \u001b[1;33m\u001b[0m\u001b[0m\n\u001b[0;32m   1426\u001b[0m     \u001b[1;32mdef\u001b[0m \u001b[0m_is_scalar_access\u001b[0m\u001b[1;33m(\u001b[0m\u001b[0mself\u001b[0m\u001b[1;33m,\u001b[0m \u001b[0mkey\u001b[0m\u001b[1;33m:\u001b[0m \u001b[0mTuple\u001b[0m\u001b[1;33m)\u001b[0m\u001b[1;33m:\u001b[0m\u001b[1;33m\u001b[0m\u001b[1;33m\u001b[0m\u001b[0m\n",
      "\u001b[1;32mC:\\ProgramData\\Anaconda3\\lib\\site-packages\\pandas\\core\\indexing.py\u001b[0m in \u001b[0;36m_getitem_axis\u001b[1;34m(self, key, axis)\u001b[0m\n\u001b[0;32m   2152\u001b[0m             \u001b[0mkey\u001b[0m \u001b[1;33m=\u001b[0m \u001b[0mitem_from_zerodim\u001b[0m\u001b[1;33m(\u001b[0m\u001b[0mkey\u001b[0m\u001b[1;33m)\u001b[0m\u001b[1;33m\u001b[0m\u001b[1;33m\u001b[0m\u001b[0m\n\u001b[0;32m   2153\u001b[0m             \u001b[1;32mif\u001b[0m \u001b[1;32mnot\u001b[0m \u001b[0mis_integer\u001b[0m\u001b[1;33m(\u001b[0m\u001b[0mkey\u001b[0m\u001b[1;33m)\u001b[0m\u001b[1;33m:\u001b[0m\u001b[1;33m\u001b[0m\u001b[1;33m\u001b[0m\u001b[0m\n\u001b[1;32m-> 2154\u001b[1;33m                 \u001b[1;32mraise\u001b[0m \u001b[0mTypeError\u001b[0m\u001b[1;33m(\u001b[0m\u001b[1;34m\"Cannot index by location index with a non-integer key\"\u001b[0m\u001b[1;33m)\u001b[0m\u001b[1;33m\u001b[0m\u001b[1;33m\u001b[0m\u001b[0m\n\u001b[0m\u001b[0;32m   2155\u001b[0m \u001b[1;33m\u001b[0m\u001b[0m\n\u001b[0;32m   2156\u001b[0m             \u001b[1;31m# validate the location\u001b[0m\u001b[1;33m\u001b[0m\u001b[1;33m\u001b[0m\u001b[1;33m\u001b[0m\u001b[0m\n",
      "\u001b[1;31mTypeError\u001b[0m: Cannot index by location index with a non-integer key"
     ]
    }
   ],
   "source": [
    "\n",
    "ipstates_timeorder = ['zeroTh_time','sunny','sunny','rainy','foggy']\n",
    "\n",
    "alpha_new = np.zeros((len(states), len(ipstates_timeorder)))\n",
    "alpha_new[:,0] = intial_state_prob\n",
    "\n",
    "print(alpha_new)\n",
    "print(transitionprobality)\n",
    "#print(emissionprobability)\n",
    "for i in range(len(alpha_new)):\n",
    "    for j in range(1, len(alpha_new[0][:])):  \n",
    "                alp_prev = alpha_new[:,j-1]\n",
    "                cilname = ipstates_timeorder[j]\n",
    "                trans = transitionprobality.iloc[:][cilname]\n",
    "                a_val = alp_prev.dot(trans)\n",
    "                to_ip_state = ipstates_timeorder[j]\n",
    "                from_obs = emissions[i]\n",
    "                \n",
    "                #print(alp_prev)\n",
    "                #print(trans)\n",
    "                #print(a_val)\n",
    "                print(emissionprobability.iloc[from_obs][to_ip_state])\n",
    "                #sum = 0;\n",
    "#                 for x in range(0, len(alpha_new)-1):\n",
    "#                     sum+=alpha_new.iloc[x][j-1]*trans.iloc[x][j]\n",
    "#                 #temp = sum * emiss[i][j]\n",
    "#                 alpha_new.iloc[i][j] = sum\n",
    "\n",
    "return alpha_new"
   ]
  },
  {
   "cell_type": "code",
   "execution_count": null,
   "metadata": {},
   "outputs": [],
   "source": []
  },
  {
   "cell_type": "code",
   "execution_count": null,
   "metadata": {},
   "outputs": [],
   "source": []
  }
 ],
 "metadata": {
  "kernelspec": {
   "display_name": "Python 3",
   "language": "python",
   "name": "python3"
  },
  "language_info": {
   "codemirror_mode": {
    "name": "ipython",
    "version": 3
   },
   "file_extension": ".py",
   "mimetype": "text/x-python",
   "name": "python",
   "nbconvert_exporter": "python",
   "pygments_lexer": "ipython3",
   "version": "3.7.4"
  }
 },
 "nbformat": 4,
 "nbformat_minor": 4
}
